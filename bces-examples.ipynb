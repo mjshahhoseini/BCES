{
 "cells": [
  {
   "cell_type": "markdown",
   "metadata": {},
   "source": [
    "Examples of how to use the BCES fitting code\n",
    "===================\n",
    "\n",
    "BCES python module [available on Github](https://github.com/rsnemmen/BCES).\n",
    "\n",
    "Tested with Python 2x and 3x."
   ]
  },
  {
   "cell_type": "code",
   "execution_count": 1,
   "metadata": {},
   "outputs": [
    {
     "name": "stdout",
     "output_type": "stream",
     "text": [
      "Populating the interactive namespace from numpy and matplotlib\n"
     ]
    }
   ],
   "source": [
    "%pylab inline"
   ]
  },
  {
   "cell_type": "code",
   "execution_count": 2,
   "metadata": {},
   "outputs": [
    {
     "name": "stdout",
     "output_type": "stream",
     "text": [
      "/Users/nemmen/Dropbox/codes/python/bces\n"
     ]
    }
   ],
   "source": [
    "cd '/Users/nemmen/Dropbox/codes/python/bces'"
   ]
  },
  {
   "cell_type": "code",
   "execution_count": 3,
   "metadata": {
    "scrolled": true
   },
   "outputs": [],
   "source": [
    "import bces.bces\n",
    "import seaborn"
   ]
  },
  {
   "cell_type": "markdown",
   "metadata": {},
   "source": [
    "# Example 1\n",
    "\n",
    "Data with errors in $x$ and $y$, no correlation between uncertainties"
   ]
  },
  {
   "cell_type": "markdown",
   "metadata": {},
   "source": [
    "Reads data (real data taken from this [paper](http://science.sciencemag.org/content/338/6113/1445.full])). The [datafile](https://github.com/rsnemmen/BCES/blob/master/data.npz) is available in the github repository"
   ]
  },
  {
   "cell_type": "code",
   "execution_count": 4,
   "metadata": {},
   "outputs": [],
   "source": [
    "data=load('data.npz')\n",
    "xdata=data['x']\n",
    "ydata=data['y']\n",
    "errx=data['errx']\n",
    "erry=data['erry']\n",
    "cov=data['cov']"
   ]
  },
  {
   "cell_type": "markdown",
   "metadata": {},
   "source": [
    "Fitting, results such that $y = Ax + B$. *covab* is the resulting covariance matrix which can be used to draw confidence regions.\n",
    "\n",
    "You need to select the desired BCES method for plotting by setting the variable $i$ below. The methods available are:\n",
    "\n",
    "| $i$  | Method  |  Description |\n",
    "|---|---| --- |\n",
    "| 0  | $y|x$  | Assumes $x$ as the independent variable |\n",
    "| 1  |  $x|y$ | Assumes $y$ as the independent variable |\n",
    "| 2  | bissector  | Line that bisects the $y|x$ and $x|y$. *Do not use this method*, cf. [Hogg, D. et al. 2010, arXiv:1008.4686](http://labs.adsabs.harvard.edu/adsabs/abs/2010arXiv1008.4686H/). |\n",
    "| 3  | orthogonal  | Orthogonal least squares: line that minimizes orthogonal distances. Should be used when it is not clear which variable should be treated as the independent one |\n",
    "\n",
    "Please read the [original BCES paper](http://labs.adsabs.harvard.edu/adsabs/abs/1996ApJ...470..706A/) to understand what these different lines mean."
   ]
  },
  {
   "cell_type": "code",
   "execution_count": 5,
   "metadata": {},
   "outputs": [],
   "source": [
    "# Selects the desired BCES method for plotting\n",
    "i=0 \n",
    "\n",
    "# number of bootstrapping trials\n",
    "nboot=10000"
   ]
  },
  {
   "cell_type": "code",
   "execution_count": 6,
   "metadata": {},
   "outputs": [
    {
     "name": "stdout",
     "output_type": "stream",
     "text": [
      "BCES, 10000 trials... \n",
      "4.965041 s\n",
      "CPU times: user 26 ms, sys: 34.8 ms, total: 60.7 ms\n",
      "Wall time: 4.97 s\n"
     ]
    }
   ],
   "source": [
    "%%time\n",
    "# Performs the BCES fit using many cores in parallel\n",
    "a,b,erra,errb,covab=bces.bces.bcesp(xdata,errx,ydata,erry,cov,nboot)"
   ]
  },
  {
   "cell_type": "markdown",
   "metadata": {},
   "source": [
    "Plot"
   ]
  },
  {
   "cell_type": "code",
   "execution_count": 7,
   "metadata": {
    "scrolled": true
   },
   "outputs": [
    {
     "data": {
      "text/plain": [
       "<matplotlib.text.Text at 0x1a197b60f0>"
      ]
     },
     "execution_count": 7,
     "metadata": {},
     "output_type": "execute_result"
    },
    {
     "data": {
      "image/png": "[encoded data removed]",
      "text/plain": [
       "<matplotlib.figure.Figure at 0x1a197566a0>"
      ]
     },
     "metadata": {},
     "output_type": "display_data"
    }
   ],
   "source": [
    "errorbar(xdata,ydata,xerr=errx,yerr=erry,fmt='o')\n",
    "x=numpy.linspace(xdata.min(),xdata.max())\n",
    "plot(x,a[i]*x+b[i],'-k',label=\"BCES $y|x$\")\n",
    "legend(loc='best')\n",
    "xlabel('$x$')\n",
    "ylabel('$y$')"
   ]
  },
  {
   "cell_type": "markdown",
   "metadata": {},
   "source": [
    "## Plot with fit confidence band\n",
    "\n",
    "Suppose you want to include in the plot a visual estimate of the uncertainty on the fit. This is called the confidence band. The $2\\sigma$ confidence interval is 95% sure to contain the best-fit regression line. Note that this is not the same as saying it will contain 95% of the data points. For more information, [check this out](http://graphpad.com/curvefit/linear_regression.htm).\n",
    "\n",
    "In order to plot the confidence band, you will need to [install the `nmmn` package](https://github.com/rsnemmen/nmmn#installation): \n",
    "\n",
    "    pip install nmmn\n",
    "\n",
    "After installing the package, follow the instructions below to plot the confidence band of your fit.\n",
    "\n",
    "First we define convenient arrays that encapsulate the fit parameters and their uncertainties—including the covariance."
   ]
  },
  {
   "cell_type": "code",
   "execution_count": 8,
   "metadata": {},
   "outputs": [],
   "source": [
    "# array with best-fit parameters\n",
    "fitm=numpy.array([ a[i],b[i] ])\t\n",
    "# covariance matrix of parameter uncertainties\n",
    "covm=numpy.array([ (erra[i]**2,covab[i]), (covab[i],errb[i]**2) ])\t\n",
    "\n",
    "# convenient function for a line\n",
    "def func(x): return x[1]*x[0]+x[2]"
   ]
  },
  {
   "cell_type": "markdown",
   "metadata": {},
   "source": [
    "Now we estimate the $2\\sigma$ confidence band using one of the methods in the `nmmn.stats` module."
   ]
  },
  {
   "cell_type": "code",
   "execution_count": 9,
   "metadata": {
    "scrolled": true
   },
   "outputs": [],
   "source": [
    "import nmmn.stats\n",
    "\n",
    "# Gets lower and upper bounds on the confidence band \n",
    "lcb,ucb,x=nmmn.stats.confbandnl(xdata,ydata,func,fitm,covm,2,0.954,x)"
   ]
  },
  {
   "cell_type": "markdown",
   "metadata": {},
   "source": [
    "Finally, the plot where the confidence band is displayed in orange. As you can see, it is very narrow."
   ]
  },
  {
   "cell_type": "code",
   "execution_count": 10,
   "metadata": {},
   "outputs": [
    {
     "data": {
      "text/plain": [
       "<matplotlib.text.Text at 0x1a1e3f4128>"
      ]
     },
     "execution_count": 10,
     "metadata": {},
     "output_type": "execute_result"
    },
    {
     "data": {
      "image/png": "[encoded data removed]",
      "text/plain": [
       "<matplotlib.figure.Figure at 0x1a1e3d9400>"
      ]
     },
     "metadata": {},
     "output_type": "display_data"
    }
   ],
   "source": [
    "errorbar(xdata,ydata,xerr=errx,yerr=erry,fmt='o')\n",
    "plot(x,a[i]*x+b[i],'-k',label=\"BCES $y|x$\")\n",
    "fill_between(x, lcb, ucb, alpha=0.3, facecolor='orange')\n",
    "\n",
    "legend(loc='best')\n",
    "xlabel('$x$')\n",
    "ylabel('$y$')\n",
    "title(\"Data, fit and confidence band\")"
   ]
  },
  {
   "cell_type": "markdown",
   "metadata": {},
   "source": [
    "# Example 2\n",
    "\n",
    "Fake data with random uncertainties in $x$ and $y$. Example prepared by Rogerio Riffel."
   ]
  },
  {
   "cell_type": "markdown",
   "metadata": {},
   "source": [
    "Prepares fake data"
   ]
  },
  {
   "cell_type": "code",
   "execution_count": 11,
   "metadata": {},
   "outputs": [],
   "source": [
    "x=np.arange(1,20)\n",
    "y=3*x + 4\n",
    "\n",
    "xer=np.sqrt((x- np.random.normal(x))**2)\n",
    "yer=np.sqrt((y- np.random.normal(y))**2)\n",
    "\n",
    "# reescrevendo x e y para serem random\n",
    "y=numpy.random.normal(y)\n",
    "x=numpy.random.normal(x)"
   ]
  },
  {
   "cell_type": "code",
   "execution_count": 12,
   "metadata": {
    "scrolled": true
   },
   "outputs": [
    {
     "name": "stdout",
     "output_type": "stream",
     "text": [
      "BCES, 10000 trials... \n",
      "4.780946 s\n"
     ]
    }
   ],
   "source": [
    "# simple linear regression\n",
    "(aa,bb)=numpy.polyfit(x,y,deg=1)\n",
    "yfit=x*aa+bb\n",
    "\n",
    "# BCES fit\n",
    "cov=zeros(len(x))   # no correlation between error measurements\n",
    "nboot=10000   # number of bootstrapping trials\n",
    "a,b,aerr,berr,covab=bces.bces.bcesp(x,xer,y,yer,cov,nboot)\n",
    "ybces=a[3]*x+b[3]  # the integer corresponds to the desired BCES method for plotting (3-ort, 0-y|x, 1-x|y, *don't use bissector*)"
   ]
  },
  {
   "cell_type": "markdown",
   "metadata": {},
   "source": [
    "Plot"
   ]
  },
  {
   "cell_type": "code",
   "execution_count": 13,
   "metadata": {
    "scrolled": false
   },
   "outputs": [
    {
     "data": {
      "text/plain": [
       "<matplotlib.text.Text at 0x1a1e433f60>"
      ]
     },
     "execution_count": 13,
     "metadata": {},
     "output_type": "execute_result"
    },
    {
     "data": {
      "image/png": "[encoded data removed]",
      "text/plain": [
       "<matplotlib.figure.Figure at 0x1a1e41d400>"
      ]
     },
     "metadata": {},
     "output_type": "display_data"
    }
   ],
   "source": [
    "plot(x,y,'o')\n",
    "errorbar(x,y,xer,yer,ls='None')\n",
    "plot(x,yfit,label='Simple regression')\n",
    "plot(x,ybces,label='BCES orthogonal')\n",
    "legend(loc='best')\n",
    "xlabel('$x$')\n",
    "ylabel('$y$')"
   ]
  },
  {
   "cell_type": "markdown",
   "metadata": {},
   "source": [
    "## Confidence band\n",
    "\n",
    "Again, make sure you install the [`nmmn`](https://github.com/rsnemmen/nmmn#installation) package before proceeding."
   ]
  },
  {
   "cell_type": "code",
   "execution_count": 14,
   "metadata": {},
   "outputs": [],
   "source": [
    "# array with best-fit parameters\n",
    "fitm=numpy.array([ a[i],b[i] ])\t\n",
    "# covariance matrix of parameter uncertainties\n",
    "covm=numpy.array([ (aerr[i]**2,covab[i]), (covab[i],berr[i]**2) ])\t"
   ]
  },
  {
   "cell_type": "markdown",
   "metadata": {},
   "source": [
    "Now we estimate the $2\\sigma$ confidence band using one of the methods in the `nmmn.stats` module."
   ]
  },
  {
   "cell_type": "code",
   "execution_count": 15,
   "metadata": {
    "scrolled": true
   },
   "outputs": [],
   "source": [
    "# Gets lower and upper bounds on the confidence band \n",
    "lcb,ucb,xcb=nmmn.stats.confbandnl(x,y,func,fitm,covm,2,0.954,x)"
   ]
  },
  {
   "cell_type": "markdown",
   "metadata": {},
   "source": [
    "Finally, the plot where the confidence band is displayed in orange. As you can see, it is very narrow."
   ]
  },
  {
   "cell_type": "code",
   "execution_count": 16,
   "metadata": {},
   "outputs": [
    {
     "data": {
      "text/plain": [
       "<matplotlib.text.Text at 0x1a1e5e8518>"
      ]
     },
     "execution_count": 16,
     "metadata": {},
     "output_type": "execute_result"
    },
    {
     "data": {
      "image/png": "[encoded data removed]",
      "text/plain": [
       "<matplotlib.figure.Figure at 0x1a1e4049e8>"
      ]
     },
     "metadata": {},
     "output_type": "display_data"
    }
   ],
   "source": [
    "errorbar(x,y,xerr=xer,yerr=yer,fmt='o')\n",
    "plot(xcb,a[i]*xcb+b[i],'-k',label=\"BCES $y|x$\")\n",
    "fill_between(xcb, lcb, ucb, alpha=0.3, facecolor='orange')\n",
    "\n",
    "legend(loc='best')\n",
    "xlabel('$x$')\n",
    "ylabel('$y$')\n",
    "title(\"Data, fit and confidence band\")"
   ]
  },
  {
   "cell_type": "markdown",
   "metadata": {},
   "source": [
    "# TODO\n",
    "\n",
    "* [x] ~~include example showing use of confidence contours in fit (\"bowtie\" plot)~~"
   ]
  }
 ],
 "metadata": {
  "anaconda-cloud": {},
  "kernelspec": {
   "display_name": "Python [default]",
   "language": "python",
   "name": "python3"
  },
  "language_info": {
   "codemirror_mode": {
    "name": "ipython",
    "version": 3
   },
   "file_extension": ".py",
   "mimetype": "text/x-python",
   "name": "python",
   "nbconvert_exporter": "python",
   "pygments_lexer": "ipython3",
   "version": "3.5.2"
  }
 },
 "nbformat": 4,
 "nbformat_minor": 1
}
